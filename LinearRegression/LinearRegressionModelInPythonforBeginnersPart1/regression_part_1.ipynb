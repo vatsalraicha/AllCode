{
 "cells": [
  {
   "cell_type": "code",
   "execution_count": 1,
   "metadata": {
    "colab": {
     "base_uri": "https://localhost:8080/",
     "height": 1000
    },
    "id": "Wt_N5heSqofI",
    "outputId": "7068aced-ea7d-470f-8057-992bc144b6dd"
   },
   "outputs": [],
   "source": [
    "#required packages with versions\n",
    "\n",
    "# !pip install numpy==1.21.2\n",
    "# !pip install seaborn==0.11.1\n",
    "# !pip install matplotlib==3.4.3\n",
    "# !pip install statsmodels==0.12.2\n",
    "# !pip install pandas==1.2.4\n",
    "# !pip install scipy==1.6.3\n",
    "# !pip install scikit_learn==0.24.2\n"
   ]
  },
  {
   "cell_type": "code",
   "execution_count": 1,
   "metadata": {},
   "outputs": [],
   "source": [
    "import warnings\n",
    "warnings.filterwarnings('ignore')"
   ]
  },
  {
   "cell_type": "code",
   "execution_count": 2,
   "metadata": {
    "colab": {
     "base_uri": "https://localhost:8080/"
    },
    "id": "FFSTAKUpqtHZ",
    "outputId": "f162425c-1fb3-4493-ec52-70dee4455608"
   },
   "outputs": [
    {
     "data": {
      "text/plain": [
       "['EPL_Soccer_MLR_LR.csv']"
      ]
     },
     "execution_count": 2,
     "metadata": {},
     "output_type": "execute_result"
    }
   ],
   "source": [
    "from zipfile import ZipFile\n",
    "import urllib.request\n",
    "from io import BytesIO\n",
    "folder = urllib.request.urlopen('https://s3.amazonaws.com/projex.dezyre.com/fundamentals-simple-linear-regression-python-beginners/materials/data.zip')\n",
    "zipfile = ZipFile(BytesIO(folder.read()))\n",
    "zipfile.namelist()"
   ]
  },
  {
   "cell_type": "code",
   "execution_count": 3,
   "metadata": {
    "colab": {
     "base_uri": "https://localhost:8080/",
     "height": 300
    },
    "id": "qITWTn6nqofN",
    "outputId": "6b430e80-26e4-48f7-a435-ecd3e9bfe6f1"
   },
   "outputs": [
    {
     "data": {
      "text/html": [
       "<div>\n",
       "<style scoped>\n",
       "    .dataframe tbody tr th:only-of-type {\n",
       "        vertical-align: middle;\n",
       "    }\n",
       "\n",
       "    .dataframe tbody tr th {\n",
       "        vertical-align: top;\n",
       "    }\n",
       "\n",
       "    .dataframe thead th {\n",
       "        text-align: right;\n",
       "    }\n",
       "</style>\n",
       "<table border=\"1\" class=\"dataframe\">\n",
       "  <thead>\n",
       "    <tr style=\"text-align: right;\">\n",
       "      <th></th>\n",
       "      <th>DistanceCovered(InKms)</th>\n",
       "      <th>Goals</th>\n",
       "      <th>MinutestoGoalRatio</th>\n",
       "      <th>ShotsPerGame</th>\n",
       "      <th>AgentCharges</th>\n",
       "      <th>BMI</th>\n",
       "      <th>Cost</th>\n",
       "      <th>PreviousClubCost</th>\n",
       "      <th>Height</th>\n",
       "      <th>Weight</th>\n",
       "      <th>Score</th>\n",
       "    </tr>\n",
       "  </thead>\n",
       "  <tbody>\n",
       "    <tr>\n",
       "      <th>count</th>\n",
       "      <td>202.000000</td>\n",
       "      <td>202.000000</td>\n",
       "      <td>202.000000</td>\n",
       "      <td>202.000000</td>\n",
       "      <td>202.000000</td>\n",
       "      <td>202.000000</td>\n",
       "      <td>202.000000</td>\n",
       "      <td>202.000000</td>\n",
       "      <td>202.000000</td>\n",
       "      <td>202.000000</td>\n",
       "      <td>202.000000</td>\n",
       "    </tr>\n",
       "    <tr>\n",
       "      <th>mean</th>\n",
       "      <td>4.718614</td>\n",
       "      <td>7.108663</td>\n",
       "      <td>43.091584</td>\n",
       "      <td>14.566337</td>\n",
       "      <td>76.876238</td>\n",
       "      <td>22.955891</td>\n",
       "      <td>69.021782</td>\n",
       "      <td>64.873713</td>\n",
       "      <td>180.103960</td>\n",
       "      <td>75.008168</td>\n",
       "      <td>13.507426</td>\n",
       "    </tr>\n",
       "    <tr>\n",
       "      <th>std</th>\n",
       "      <td>0.457976</td>\n",
       "      <td>1.800549</td>\n",
       "      <td>3.662989</td>\n",
       "      <td>1.362451</td>\n",
       "      <td>47.501239</td>\n",
       "      <td>2.863933</td>\n",
       "      <td>32.565333</td>\n",
       "      <td>13.070197</td>\n",
       "      <td>9.734494</td>\n",
       "      <td>13.925574</td>\n",
       "      <td>6.189826</td>\n",
       "    </tr>\n",
       "    <tr>\n",
       "      <th>min</th>\n",
       "      <td>3.800000</td>\n",
       "      <td>3.300000</td>\n",
       "      <td>35.900000</td>\n",
       "      <td>11.600000</td>\n",
       "      <td>8.000000</td>\n",
       "      <td>16.750000</td>\n",
       "      <td>28.000000</td>\n",
       "      <td>34.360000</td>\n",
       "      <td>148.900000</td>\n",
       "      <td>37.800000</td>\n",
       "      <td>5.630000</td>\n",
       "    </tr>\n",
       "    <tr>\n",
       "      <th>25%</th>\n",
       "      <td>4.372500</td>\n",
       "      <td>5.900000</td>\n",
       "      <td>40.600000</td>\n",
       "      <td>13.500000</td>\n",
       "      <td>41.250000</td>\n",
       "      <td>21.082500</td>\n",
       "      <td>43.850000</td>\n",
       "      <td>54.667500</td>\n",
       "      <td>174.000000</td>\n",
       "      <td>66.525000</td>\n",
       "      <td>8.545000</td>\n",
       "    </tr>\n",
       "    <tr>\n",
       "      <th>50%</th>\n",
       "      <td>4.755000</td>\n",
       "      <td>6.850000</td>\n",
       "      <td>43.500000</td>\n",
       "      <td>14.700000</td>\n",
       "      <td>65.500000</td>\n",
       "      <td>22.720000</td>\n",
       "      <td>58.600000</td>\n",
       "      <td>63.035000</td>\n",
       "      <td>179.700000</td>\n",
       "      <td>74.400000</td>\n",
       "      <td>11.650000</td>\n",
       "    </tr>\n",
       "    <tr>\n",
       "      <th>75%</th>\n",
       "      <td>5.030000</td>\n",
       "      <td>8.275000</td>\n",
       "      <td>45.575000</td>\n",
       "      <td>15.575000</td>\n",
       "      <td>97.000000</td>\n",
       "      <td>24.465000</td>\n",
       "      <td>90.350000</td>\n",
       "      <td>74.750000</td>\n",
       "      <td>186.175000</td>\n",
       "      <td>84.125000</td>\n",
       "      <td>18.080000</td>\n",
       "    </tr>\n",
       "    <tr>\n",
       "      <th>max</th>\n",
       "      <td>6.720000</td>\n",
       "      <td>14.300000</td>\n",
       "      <td>59.700000</td>\n",
       "      <td>19.200000</td>\n",
       "      <td>234.000000</td>\n",
       "      <td>34.420000</td>\n",
       "      <td>200.800000</td>\n",
       "      <td>106.000000</td>\n",
       "      <td>209.400000</td>\n",
       "      <td>123.200000</td>\n",
       "      <td>35.520000</td>\n",
       "    </tr>\n",
       "  </tbody>\n",
       "</table>\n",
       "</div>"
      ],
      "text/plain": [
       "       DistanceCovered(InKms)       Goals  MinutestoGoalRatio  ShotsPerGame  \\\n",
       "count              202.000000  202.000000          202.000000    202.000000   \n",
       "mean                 4.718614    7.108663           43.091584     14.566337   \n",
       "std                  0.457976    1.800549            3.662989      1.362451   \n",
       "min                  3.800000    3.300000           35.900000     11.600000   \n",
       "25%                  4.372500    5.900000           40.600000     13.500000   \n",
       "50%                  4.755000    6.850000           43.500000     14.700000   \n",
       "75%                  5.030000    8.275000           45.575000     15.575000   \n",
       "max                  6.720000   14.300000           59.700000     19.200000   \n",
       "\n",
       "       AgentCharges         BMI        Cost  PreviousClubCost      Height  \\\n",
       "count    202.000000  202.000000  202.000000        202.000000  202.000000   \n",
       "mean      76.876238   22.955891   69.021782         64.873713  180.103960   \n",
       "std       47.501239    2.863933   32.565333         13.070197    9.734494   \n",
       "min        8.000000   16.750000   28.000000         34.360000  148.900000   \n",
       "25%       41.250000   21.082500   43.850000         54.667500  174.000000   \n",
       "50%       65.500000   22.720000   58.600000         63.035000  179.700000   \n",
       "75%       97.000000   24.465000   90.350000         74.750000  186.175000   \n",
       "max      234.000000   34.420000  200.800000        106.000000  209.400000   \n",
       "\n",
       "           Weight       Score  \n",
       "count  202.000000  202.000000  \n",
       "mean    75.008168   13.507426  \n",
       "std     13.925574    6.189826  \n",
       "min     37.800000    5.630000  \n",
       "25%     66.525000    8.545000  \n",
       "50%     74.400000   11.650000  \n",
       "75%     84.125000   18.080000  \n",
       "max    123.200000   35.520000  "
      ]
     },
     "execution_count": 3,
     "metadata": {},
     "output_type": "execute_result"
    }
   ],
   "source": [
    "#Package imports needed\n",
    "import pandas as pd\n",
    "import numpy as np\n",
    "import matplotlib.pyplot as plt\n",
    "from sklearn.model_selection import train_test_split\n",
    "import statsmodels.api as sm\n",
    "import seaborn as sns\n",
    "from scipy import stats\n",
    "import scipy\n",
    "\n",
    "\n",
    "#Load the data as a data frame\n",
    "df=pd.read_csv(zipfile.open('EPL_Soccer_MLR_LR.csv'))\n",
    "\n",
    "# Get basic description of the data, looking the spread of the different variables,\n",
    "# along with  abrupt changes between the minimum, 25th, 50th, 75th, and max for the different variables\n",
    "df.describe()\n"
   ]
  },
  {
   "cell_type": "code",
   "execution_count": 4,
   "metadata": {
    "colab": {
     "base_uri": "https://localhost:8080/",
     "height": 759
    },
    "id": "UAlYsx_NqofP",
    "outputId": "3dc3ec6a-a741-4588-f2f5-4e91b5a92707",
    "pycharm": {
     "name": "#%%\n"
    }
   },
   "outputs": [
    {
     "name": "stdout",
     "output_type": "stream",
     "text": [
      "<class 'pandas.core.frame.DataFrame'>\n",
      "RangeIndex: 202 entries, 0 to 201\n",
      "Data columns (total 13 columns):\n",
      " #   Column                  Non-Null Count  Dtype  \n",
      "---  ------                  --------------  -----  \n",
      " 0   PlayerName              202 non-null    object \n",
      " 1   Club                    202 non-null    object \n",
      " 2   DistanceCovered(InKms)  202 non-null    float64\n",
      " 3   Goals                   202 non-null    float64\n",
      " 4   MinutestoGoalRatio      202 non-null    float64\n",
      " 5   ShotsPerGame            202 non-null    float64\n",
      " 6   AgentCharges            202 non-null    int64  \n",
      " 7   BMI                     202 non-null    float64\n",
      " 8   Cost                    202 non-null    float64\n",
      " 9   PreviousClubCost        202 non-null    float64\n",
      " 10  Height                  202 non-null    float64\n",
      " 11  Weight                  202 non-null    float64\n",
      " 12  Score                   202 non-null    float64\n",
      "dtypes: float64(10), int64(1), object(2)\n",
      "memory usage: 20.6+ KB\n"
     ]
    },
    {
     "data": {
      "text/html": [
       "<div>\n",
       "<style scoped>\n",
       "    .dataframe tbody tr th:only-of-type {\n",
       "        vertical-align: middle;\n",
       "    }\n",
       "\n",
       "    .dataframe tbody tr th {\n",
       "        vertical-align: top;\n",
       "    }\n",
       "\n",
       "    .dataframe thead th {\n",
       "        text-align: right;\n",
       "    }\n",
       "</style>\n",
       "<table border=\"1\" class=\"dataframe\">\n",
       "  <thead>\n",
       "    <tr style=\"text-align: right;\">\n",
       "      <th></th>\n",
       "      <th>DistanceCovered(InKms)</th>\n",
       "      <th>Goals</th>\n",
       "      <th>MinutestoGoalRatio</th>\n",
       "      <th>ShotsPerGame</th>\n",
       "      <th>AgentCharges</th>\n",
       "      <th>BMI</th>\n",
       "      <th>Cost</th>\n",
       "      <th>PreviousClubCost</th>\n",
       "      <th>Height</th>\n",
       "      <th>Weight</th>\n",
       "      <th>Score</th>\n",
       "    </tr>\n",
       "  </thead>\n",
       "  <tbody>\n",
       "    <tr>\n",
       "      <th>DistanceCovered(InKms)</th>\n",
       "      <td>1.000000</td>\n",
       "      <td>0.147098</td>\n",
       "      <td>0.924964</td>\n",
       "      <td>0.888800</td>\n",
       "      <td>0.250865</td>\n",
       "      <td>0.299471</td>\n",
       "      <td>-0.403004</td>\n",
       "      <td>0.550975</td>\n",
       "      <td>0.358854</td>\n",
       "      <td>0.403743</td>\n",
       "      <td>-0.493512</td>\n",
       "    </tr>\n",
       "    <tr>\n",
       "      <th>Goals</th>\n",
       "      <td>0.147098</td>\n",
       "      <td>1.000000</td>\n",
       "      <td>0.153333</td>\n",
       "      <td>0.134721</td>\n",
       "      <td>0.131973</td>\n",
       "      <td>0.177032</td>\n",
       "      <td>0.137131</td>\n",
       "      <td>0.102734</td>\n",
       "      <td>0.076958</td>\n",
       "      <td>0.155844</td>\n",
       "      <td>0.108114</td>\n",
       "    </tr>\n",
       "    <tr>\n",
       "      <th>MinutestoGoalRatio</th>\n",
       "      <td>0.924964</td>\n",
       "      <td>0.153333</td>\n",
       "      <td>1.000000</td>\n",
       "      <td>0.950757</td>\n",
       "      <td>0.258240</td>\n",
       "      <td>0.320527</td>\n",
       "      <td>-0.449135</td>\n",
       "      <td>0.583375</td>\n",
       "      <td>0.371192</td>\n",
       "      <td>0.423699</td>\n",
       "      <td>-0.532449</td>\n",
       "    </tr>\n",
       "    <tr>\n",
       "      <th>ShotsPerGame</th>\n",
       "      <td>0.888800</td>\n",
       "      <td>0.134721</td>\n",
       "      <td>0.950757</td>\n",
       "      <td>1.000000</td>\n",
       "      <td>0.308391</td>\n",
       "      <td>0.382524</td>\n",
       "      <td>-0.435429</td>\n",
       "      <td>0.610986</td>\n",
       "      <td>0.352322</td>\n",
       "      <td>0.455255</td>\n",
       "      <td>-0.531522</td>\n",
       "    </tr>\n",
       "    <tr>\n",
       "      <th>AgentCharges</th>\n",
       "      <td>0.250865</td>\n",
       "      <td>0.131973</td>\n",
       "      <td>0.258240</td>\n",
       "      <td>0.308391</td>\n",
       "      <td>1.000000</td>\n",
       "      <td>0.302556</td>\n",
       "      <td>-0.108243</td>\n",
       "      <td>0.317581</td>\n",
       "      <td>0.123255</td>\n",
       "      <td>0.273686</td>\n",
       "      <td>-0.183386</td>\n",
       "    </tr>\n",
       "    <tr>\n",
       "      <th>BMI</th>\n",
       "      <td>0.299471</td>\n",
       "      <td>0.177032</td>\n",
       "      <td>0.320527</td>\n",
       "      <td>0.382524</td>\n",
       "      <td>0.302556</td>\n",
       "      <td>1.000000</td>\n",
       "      <td>0.321116</td>\n",
       "      <td>0.713858</td>\n",
       "      <td>0.337097</td>\n",
       "      <td>0.845955</td>\n",
       "      <td>0.187558</td>\n",
       "    </tr>\n",
       "    <tr>\n",
       "      <th>Cost</th>\n",
       "      <td>-0.403004</td>\n",
       "      <td>0.137131</td>\n",
       "      <td>-0.449135</td>\n",
       "      <td>-0.435429</td>\n",
       "      <td>-0.108243</td>\n",
       "      <td>0.321116</td>\n",
       "      <td>1.000000</td>\n",
       "      <td>-0.207749</td>\n",
       "      <td>-0.071253</td>\n",
       "      <td>0.154227</td>\n",
       "      <td>0.963017</td>\n",
       "    </tr>\n",
       "    <tr>\n",
       "      <th>PreviousClubCost</th>\n",
       "      <td>0.550975</td>\n",
       "      <td>0.102734</td>\n",
       "      <td>0.583375</td>\n",
       "      <td>0.610986</td>\n",
       "      <td>0.317581</td>\n",
       "      <td>0.713858</td>\n",
       "      <td>-0.207749</td>\n",
       "      <td>1.000000</td>\n",
       "      <td>0.802119</td>\n",
       "      <td>0.930904</td>\n",
       "      <td>-0.361850</td>\n",
       "    </tr>\n",
       "    <tr>\n",
       "      <th>Height</th>\n",
       "      <td>0.358854</td>\n",
       "      <td>0.076958</td>\n",
       "      <td>0.371192</td>\n",
       "      <td>0.352322</td>\n",
       "      <td>0.123255</td>\n",
       "      <td>0.337097</td>\n",
       "      <td>-0.071253</td>\n",
       "      <td>0.802119</td>\n",
       "      <td>1.000000</td>\n",
       "      <td>0.780906</td>\n",
       "      <td>-0.188022</td>\n",
       "    </tr>\n",
       "    <tr>\n",
       "      <th>Weight</th>\n",
       "      <td>0.403743</td>\n",
       "      <td>0.155844</td>\n",
       "      <td>0.423699</td>\n",
       "      <td>0.455255</td>\n",
       "      <td>0.273686</td>\n",
       "      <td>0.845955</td>\n",
       "      <td>0.154227</td>\n",
       "      <td>0.930904</td>\n",
       "      <td>0.780906</td>\n",
       "      <td>1.000000</td>\n",
       "      <td>-0.000162</td>\n",
       "    </tr>\n",
       "    <tr>\n",
       "      <th>Score</th>\n",
       "      <td>-0.493512</td>\n",
       "      <td>0.108114</td>\n",
       "      <td>-0.532449</td>\n",
       "      <td>-0.531522</td>\n",
       "      <td>-0.183386</td>\n",
       "      <td>0.187558</td>\n",
       "      <td>0.963017</td>\n",
       "      <td>-0.361850</td>\n",
       "      <td>-0.188022</td>\n",
       "      <td>-0.000162</td>\n",
       "      <td>1.000000</td>\n",
       "    </tr>\n",
       "  </tbody>\n",
       "</table>\n",
       "</div>"
      ],
      "text/plain": [
       "                        DistanceCovered(InKms)     Goals  MinutestoGoalRatio  \\\n",
       "DistanceCovered(InKms)                1.000000  0.147098            0.924964   \n",
       "Goals                                 0.147098  1.000000            0.153333   \n",
       "MinutestoGoalRatio                    0.924964  0.153333            1.000000   \n",
       "ShotsPerGame                          0.888800  0.134721            0.950757   \n",
       "AgentCharges                          0.250865  0.131973            0.258240   \n",
       "BMI                                   0.299471  0.177032            0.320527   \n",
       "Cost                                 -0.403004  0.137131           -0.449135   \n",
       "PreviousClubCost                      0.550975  0.102734            0.583375   \n",
       "Height                                0.358854  0.076958            0.371192   \n",
       "Weight                                0.403743  0.155844            0.423699   \n",
       "Score                                -0.493512  0.108114           -0.532449   \n",
       "\n",
       "                        ShotsPerGame  AgentCharges       BMI      Cost  \\\n",
       "DistanceCovered(InKms)      0.888800      0.250865  0.299471 -0.403004   \n",
       "Goals                       0.134721      0.131973  0.177032  0.137131   \n",
       "MinutestoGoalRatio          0.950757      0.258240  0.320527 -0.449135   \n",
       "ShotsPerGame                1.000000      0.308391  0.382524 -0.435429   \n",
       "AgentCharges                0.308391      1.000000  0.302556 -0.108243   \n",
       "BMI                         0.382524      0.302556  1.000000  0.321116   \n",
       "Cost                       -0.435429     -0.108243  0.321116  1.000000   \n",
       "PreviousClubCost            0.610986      0.317581  0.713858 -0.207749   \n",
       "Height                      0.352322      0.123255  0.337097 -0.071253   \n",
       "Weight                      0.455255      0.273686  0.845955  0.154227   \n",
       "Score                      -0.531522     -0.183386  0.187558  0.963017   \n",
       "\n",
       "                        PreviousClubCost    Height    Weight     Score  \n",
       "DistanceCovered(InKms)          0.550975  0.358854  0.403743 -0.493512  \n",
       "Goals                           0.102734  0.076958  0.155844  0.108114  \n",
       "MinutestoGoalRatio              0.583375  0.371192  0.423699 -0.532449  \n",
       "ShotsPerGame                    0.610986  0.352322  0.455255 -0.531522  \n",
       "AgentCharges                    0.317581  0.123255  0.273686 -0.183386  \n",
       "BMI                             0.713858  0.337097  0.845955  0.187558  \n",
       "Cost                           -0.207749 -0.071253  0.154227  0.963017  \n",
       "PreviousClubCost                1.000000  0.802119  0.930904 -0.361850  \n",
       "Height                          0.802119  1.000000  0.780906 -0.188022  \n",
       "Weight                          0.930904  0.780906  1.000000 -0.000162  \n",
       "Score                          -0.361850 -0.188022 -0.000162  1.000000  "
      ]
     },
     "execution_count": 4,
     "metadata": {},
     "output_type": "execute_result"
    }
   ],
   "source": [
    "#Get info, look for missing values, get a sense of what format each variable is in\n",
    "\n",
    "\n",
    "df.info()\n",
    "#We are attempting to predict score\n",
    "#Look at correlations between variables to identify best predictor for response (score)\n",
    "df.corr()\n",
    "\n",
    "#Can see the strongest predictor of score is cost, with a 96% correlation"
   ]
  },
  {
   "cell_type": "code",
   "execution_count": 5,
   "metadata": {
    "colab": {
     "base_uri": "https://localhost:8080/",
     "height": 265
    },
    "id": "Pei71Q8vqofQ",
    "outputId": "50c0d61a-e34f-4d1f-c838-41964d36d589",
    "pycharm": {
     "name": "#%%\n"
    }
   },
   "outputs": [
    {
     "data": {
      "image/png": "[encoded data removed]",
      "text/plain": [
       "<Figure size 432x288 with 1 Axes>"
      ]
     },
     "metadata": {
      "needs_background": "light"
     },
     "output_type": "display_data"
    }
   ],
   "source": [
    "#Let's plot cost vs. score\n",
    "plt.scatter(df['Cost'], df['Score']);\n",
    "\n",
    "#Strong linear association between cost and score, maybe some concern with model\n",
    "# after a cost of 125 or so!\n"
   ]
  },
  {
   "cell_type": "code",
   "execution_count": 6,
   "metadata": {
    "id": "-zI7r7h8qofR",
    "pycharm": {
     "name": "#%%\n"
    }
   },
   "outputs": [],
   "source": [
    "#Assign x, y then do training testing split\n",
    "x=df['Cost']\n",
    "y=df['Score']\n",
    "\n",
    "#Splitting with 75% training, 25% testing data\n",
    "x_train, x_test, y_train, y_test = train_test_split(x, y, train_size = 0.75,\n",
    "                                                    test_size = 0.25, random_state = 100)"
   ]
  },
  {
   "cell_type": "code",
   "execution_count": 7,
   "metadata": {
    "colab": {
     "base_uri": "https://localhost:8080/",
     "height": 484
    },
    "id": "FHKO4UtNqofS",
    "outputId": "eec1707d-09ca-4862-e56b-a407443b0a9d",
    "pycharm": {
     "name": "#%%\n"
    }
   },
   "outputs": [
    {
     "data": {
      "text/html": [
       "<table class=\"simpletable\">\n",
       "<caption>OLS Regression Results</caption>\n",
       "<tr>\n",
       "  <th>Dep. Variable:</th>          <td>Score</td>      <th>  R-squared:         </th> <td>   0.930</td>\n",
       "</tr>\n",
       "<tr>\n",
       "  <th>Model:</th>                   <td>OLS</td>       <th>  Adj. R-squared:    </th> <td>   0.929</td>\n",
       "</tr>\n",
       "<tr>\n",
       "  <th>Method:</th>             <td>Least Squares</td>  <th>  F-statistic:       </th> <td>   1976.</td>\n",
       "</tr>\n",
       "<tr>\n",
       "  <th>Date:</th>             <td>Fri, 21 Oct 2022</td> <th>  Prob (F-statistic):</th> <td>6.91e-88</td>\n",
       "</tr>\n",
       "<tr>\n",
       "  <th>Time:</th>                 <td>09:09:29</td>     <th>  Log-Likelihood:    </th> <td> -293.23</td>\n",
       "</tr>\n",
       "<tr>\n",
       "  <th>No. Observations:</th>      <td>   151</td>      <th>  AIC:               </th> <td>   590.5</td>\n",
       "</tr>\n",
       "<tr>\n",
       "  <th>Df Residuals:</th>          <td>   149</td>      <th>  BIC:               </th> <td>   596.5</td>\n",
       "</tr>\n",
       "<tr>\n",
       "  <th>Df Model:</th>              <td>     1</td>      <th>                     </th>     <td> </td>   \n",
       "</tr>\n",
       "<tr>\n",
       "  <th>Covariance Type:</th>      <td>nonrobust</td>    <th>                     </th>     <td> </td>   \n",
       "</tr>\n",
       "</table>\n",
       "<table class=\"simpletable\">\n",
       "<tr>\n",
       "    <td></td>       <th>coef</th>     <th>std err</th>      <th>t</th>      <th>P>|t|</th>  <th>[0.025</th>    <th>0.975]</th>  \n",
       "</tr>\n",
       "<tr>\n",
       "  <th>const</th> <td>    0.9472</td> <td>    0.325</td> <td>    2.916</td> <td> 0.004</td> <td>    0.305</td> <td>    1.589</td>\n",
       "</tr>\n",
       "<tr>\n",
       "  <th>Cost</th>  <td>    0.1821</td> <td>    0.004</td> <td>   44.456</td> <td> 0.000</td> <td>    0.174</td> <td>    0.190</td>\n",
       "</tr>\n",
       "</table>\n",
       "<table class=\"simpletable\">\n",
       "<tr>\n",
       "  <th>Omnibus:</th>       <td> 3.849</td> <th>  Durbin-Watson:     </th> <td>   1.821</td>\n",
       "</tr>\n",
       "<tr>\n",
       "  <th>Prob(Omnibus):</th> <td> 0.146</td> <th>  Jarque-Bera (JB):  </th> <td>   3.867</td>\n",
       "</tr>\n",
       "<tr>\n",
       "  <th>Skew:</th>          <td> 0.359</td> <th>  Prob(JB):          </th> <td>   0.145</td>\n",
       "</tr>\n",
       "<tr>\n",
       "  <th>Kurtosis:</th>      <td> 2.685</td> <th>  Cond. No.          </th> <td>    186.</td>\n",
       "</tr>\n",
       "</table><br/><br/>Notes:<br/>[1] Standard Errors assume that the covariance matrix of the errors is correctly specified."
      ],
      "text/plain": [
       "<class 'statsmodels.iolib.summary.Summary'>\n",
       "\"\"\"\n",
       "                            OLS Regression Results                            \n",
       "==============================================================================\n",
       "Dep. Variable:                  Score   R-squared:                       0.930\n",
       "Model:                            OLS   Adj. R-squared:                  0.929\n",
       "Method:                 Least Squares   F-statistic:                     1976.\n",
       "Date:                Fri, 21 Oct 2022   Prob (F-statistic):           6.91e-88\n",
       "Time:                        09:09:29   Log-Likelihood:                -293.23\n",
       "No. Observations:                 151   AIC:                             590.5\n",
       "Df Residuals:                     149   BIC:                             596.5\n",
       "Df Model:                           1                                         \n",
       "Covariance Type:            nonrobust                                         \n",
       "==============================================================================\n",
       "                 coef    std err          t      P>|t|      [0.025      0.975]\n",
       "------------------------------------------------------------------------------\n",
       "const          0.9472      0.325      2.916      0.004       0.305       1.589\n",
       "Cost           0.1821      0.004     44.456      0.000       0.174       0.190\n",
       "==============================================================================\n",
       "Omnibus:                        3.849   Durbin-Watson:                   1.821\n",
       "Prob(Omnibus):                  0.146   Jarque-Bera (JB):                3.867\n",
       "Skew:                           0.359   Prob(JB):                        0.145\n",
       "Kurtosis:                       2.685   Cond. No.                         186.\n",
       "==============================================================================\n",
       "\n",
       "Notes:\n",
       "[1] Standard Errors assume that the covariance matrix of the errors is correctly specified.\n",
       "\"\"\""
      ]
     },
     "execution_count": 7,
     "metadata": {},
     "output_type": "execute_result"
    }
   ],
   "source": [
    "#statsmodel approach to regression\n",
    "# fit the model\n",
    "lr = sm.OLS(y_train, x_train).fit()\n",
    "\n",
    "# Printing the parameters\n",
    "lr.params\n",
    "lr.summary()\n",
    "\n",
    "#force intercept term\n",
    "x_train_with_intercept = sm.add_constant(x_train)\n",
    "lr = sm.OLS(y_train, x_train_with_intercept).fit()\n",
    "lr.summary()\n"
   ]
  },
  {
   "cell_type": "code",
   "execution_count": 8,
   "metadata": {
    "colab": {
     "base_uri": "https://localhost:8080/",
     "height": 320
    },
    "id": "ckraJ080qofU",
    "outputId": "30876744-30c1-43be-bf7c-4b0d5dc67c01",
    "pycharm": {
     "name": "#%%\n"
    }
   },
   "outputs": [
    {
     "name": "stdout",
     "output_type": "stream",
     "text": [
      "const    0.947185\n",
      "Cost     0.182083\n",
      "dtype: float64\n"
     ]
    },
    {
     "data": {
      "image/png": "[encoded data removed]",
      "text/plain": [
       "<Figure size 432x288 with 1 Axes>"
      ]
     },
     "metadata": {
      "needs_background": "light"
     },
     "output_type": "display_data"
    }
   ],
   "source": [
    "#Extract the B0, B1\n",
    "print(lr.params)\n",
    "b0=lr.params[0]\n",
    "b1=lr.params[1]\n",
    "\n",
    "#Plot the fitted line on training data\n",
    "plt.scatter(x_train, y_train)\n",
    "plt.plot(x_train, b0+ b1*x_train, 'r')\n",
    "plt.show()"
   ]
  },
  {
   "cell_type": "code",
   "execution_count": 9,
   "metadata": {
    "colab": {
     "base_uri": "https://localhost:8080/",
     "height": 301
    },
    "id": "AldF7UoqqofU",
    "outputId": "6d25f522-acf5-411e-cd56-f0feeb2186d5",
    "pycharm": {
     "name": "#%%\n"
    }
   },
   "outputs": [
    {
     "data": {
      "image/png": "[encoded data removed]",
      "text/plain": [
       "<Figure size 432x288 with 1 Axes>"
      ]
     },
     "metadata": {
      "needs_background": "light"
     },
     "output_type": "display_data"
    }
   ],
   "source": [
    "#Plot the fitted line on test data\n",
    "\n",
    "x_test_with_intercept = sm.add_constant(x_test)\n",
    "y_test_fitted = lr.predict(x_test_with_intercept)\n",
    "\n",
    "\n",
    "plt.scatter(x_test, y_test)\n",
    "plt.plot(x_test, y_test_fitted, 'r')\n",
    "plt.show()\n",
    "\n",
    "\n",
    "\n",
    "\n",
    "\n",
    "\n"
   ]
  },
  {
   "cell_type": "code",
   "execution_count": 10,
   "metadata": {
    "colab": {
     "base_uri": "https://localhost:8080/",
     "height": 1000
    },
    "id": "nwq6Ny_SqofV",
    "outputId": "2440e43d-5809-4d75-a173-ad4f0ad81507",
    "pycharm": {
     "name": "#%%\n"
    }
   },
   "outputs": [
    {
     "data": {
      "image/png": "[encoded data removed]",
      "text/plain": [
       "<Figure size 432x288 with 1 Axes>"
      ]
     },
     "metadata": {
      "needs_background": "light"
     },
     "output_type": "display_data"
    },
    {
     "data": {
      "image/png": "[encoded data removed]",
      "text/plain": [
       "<Figure size 432x288 with 1 Axes>"
      ]
     },
     "metadata": {
      "needs_background": "light"
     },
     "output_type": "display_data"
    },
    {
     "data": {
      "image/png": "[encoded data removed]",
      "text/plain": [
       "<Figure size 432x288 with 1 Axes>"
      ]
     },
     "metadata": {
      "needs_background": "light"
     },
     "output_type": "display_data"
    },
    {
     "data": {
      "image/png": "[encoded data removed]",
      "text/plain": [
       "<Figure size 432x288 with 1 Axes>"
      ]
     },
     "metadata": {
      "needs_background": "light"
     },
     "output_type": "display_data"
    },
    {
     "data": {
      "image/png": "[encoded data removed]",
      "text/plain": [
       "<Figure size 432x288 with 1 Axes>"
      ]
     },
     "metadata": {
      "needs_background": "light"
     },
     "output_type": "display_data"
    }
   ],
   "source": [
    "#DIAGNOSTICS\n",
    "\n",
    "#CHECKLIST:\n",
    "# NON-LINEARITY\n",
    "# NON-CONSTANT VARIANCE\n",
    "# DEVIATIONS FROM NORMALITY\n",
    "# ERRORS NOT IID\n",
    "# OUTLIERS\n",
    "# MISSING PREDICTORS\n",
    "\n",
    "\n",
    "\n",
    "#Build predictions on training data\n",
    "predictions_y = lr.predict(x_train_with_intercept)\n",
    "\n",
    "#Find residuals\n",
    "r_i = (y_train - predictions_y)\n",
    "\n",
    "\n",
    "#Residuals vs. predictor in training data\n",
    "plt.title(' Residuals vs. Cost')\n",
    "plt.xlabel('Cost',fontsize=15)\n",
    "plt.scatter(x_train, r_i)\n",
    "plt.show()\n",
    "\n",
    "\n",
    "\n",
    "\n",
    "#Absolute residuals against predictor\n",
    "abs_r_i = np.abs(y_train - predictions_y)\n",
    "plt.title('Absolute Residuals vs. Cost')\n",
    "plt.xlabel('Cost',fontsize=15)\n",
    "plt.scatter(x_train, abs_r_i)\n",
    "plt.show()\n",
    "\n",
    "#Normality plot\n",
    "scipy.stats.probplot(r_i,plot=plt)\n",
    "\n",
    "#Tails might be a little heavy, but overall no clear reason to reject normality expectations\n",
    "# Evaluate normality through histogram of residuals\n",
    "# Plotting the histogram using the residual values\n",
    "fig = plt.figure()\n",
    "sns.distplot(r_i, bins = 15)\n",
    "plt.title('Error Terms', fontsize = 15)\n",
    "plt.xlabel('y_train - y_train_pred', fontsize = 15)\n",
    "plt.show()\n",
    "\n",
    "#Boxplot for outliers\n",
    "# plot\n",
    "plt.boxplot(r_i, boxprops=dict(color='red'))\n",
    "plt.title('Residual Boxplot');"
   ]
  },
  {
   "cell_type": "code",
   "execution_count": 11,
   "metadata": {
    "colab": {
     "base_uri": "https://localhost:8080/",
     "height": 300
    },
    "id": "wBeKeATRqofX",
    "outputId": "18940e5a-990a-424f-ed16-ba8a54b117d9",
    "pycharm": {
     "name": "#%%\n"
    }
   },
   "outputs": [
    {
     "data": {
      "image/png": "[encoded data removed]",
      "text/plain": [
       "<Figure size 432x288 with 1 Axes>"
      ]
     },
     "metadata": {
      "needs_background": "light"
     },
     "output_type": "display_data"
    }
   ],
   "source": [
    "#Demo of how to deal with non-constant variance through transformations\n",
    "\n",
    "test_residuals=(y_test-y_test_fitted)\n",
    "len(y_test)\n",
    "len(y_test_fitted)\n",
    "len(test_residuals)\n",
    "\n",
    "#Residuals vs. predictor in test set\n",
    "plt.title('Test Residuals vs. Cost')\n",
    "plt.xlabel('Cost',fontsize=15)\n",
    "plt.scatter(x_test, test_residuals)\n",
    "plt.show()\n",
    "\n",
    "#Some evidence of non-constant variance\n",
    "\n",
    "\n"
   ]
  },
  {
   "cell_type": "code",
   "execution_count": 12,
   "metadata": {
    "colab": {
     "base_uri": "https://localhost:8080/",
     "height": 265
    },
    "id": "wvkKkOiFqofY",
    "outputId": "1a3086ee-9874-432d-80b0-4e41290b4326",
    "pycharm": {
     "name": "#%%\n"
    }
   },
   "outputs": [
    {
     "data": {
      "image/png": "[encoded data removed]",
      "text/plain": [
       "<Figure size 432x288 with 1 Axes>"
      ]
     },
     "metadata": {
      "needs_background": "light"
     },
     "output_type": "display_data"
    }
   ],
   "source": [
    "#\n",
    "\n",
    "#Try sqrt\n",
    "sqrt_y=np.sqrt(y)\n",
    "plt.scatter(x, sqrt_y,color='red');\n",
    "\n",
    "#Try ln\n",
    "ln_y=np.log(y)\n",
    "plt.scatter(x, ln_y,color='blue');\n",
    "\n",
    "\n",
    "#Let's try a BC transformation\n",
    "\n",
    "#Box Cox procedure on all cost\n",
    "bc_y=list(stats.boxcox(y))\n",
    "bc_y=bc_y[0]\n",
    "plt.scatter(x, bc_y,color='orange');\n",
    "\n",
    "#Overall, most satisfied with the sqrt transformation"
   ]
  },
  {
   "cell_type": "code",
   "execution_count": 13,
   "metadata": {
    "colab": {
     "base_uri": "https://localhost:8080/",
     "height": 484
    },
    "id": "iqYVR0obqofZ",
    "outputId": "0084424c-26b2-43eb-db28-eea471c81354",
    "pycharm": {
     "name": "#%%\n"
    }
   },
   "outputs": [
    {
     "data": {
      "text/html": [
       "<table class=\"simpletable\">\n",
       "<caption>OLS Regression Results</caption>\n",
       "<tr>\n",
       "  <th>Dep. Variable:</th>          <td>Score</td>      <th>  R-squared:         </th> <td>   0.895</td>\n",
       "</tr>\n",
       "<tr>\n",
       "  <th>Model:</th>                   <td>OLS</td>       <th>  Adj. R-squared:    </th> <td>   0.894</td>\n",
       "</tr>\n",
       "<tr>\n",
       "  <th>Method:</th>             <td>Least Squares</td>  <th>  F-statistic:       </th> <td>   1267.</td>\n",
       "</tr>\n",
       "<tr>\n",
       "  <th>Date:</th>             <td>Fri, 21 Oct 2022</td> <th>  Prob (F-statistic):</th> <td>9.72e-75</td>\n",
       "</tr>\n",
       "<tr>\n",
       "  <th>Time:</th>                 <td>09:09:40</td>     <th>  Log-Likelihood:    </th> <td> -17.200</td>\n",
       "</tr>\n",
       "<tr>\n",
       "  <th>No. Observations:</th>      <td>   151</td>      <th>  AIC:               </th> <td>   38.40</td>\n",
       "</tr>\n",
       "<tr>\n",
       "  <th>Df Residuals:</th>          <td>   149</td>      <th>  BIC:               </th> <td>   44.43</td>\n",
       "</tr>\n",
       "<tr>\n",
       "  <th>Df Model:</th>              <td>     1</td>      <th>                     </th>     <td> </td>   \n",
       "</tr>\n",
       "<tr>\n",
       "  <th>Covariance Type:</th>      <td>nonrobust</td>    <th>                     </th>     <td> </td>   \n",
       "</tr>\n",
       "</table>\n",
       "<table class=\"simpletable\">\n",
       "<tr>\n",
       "    <td></td>       <th>coef</th>     <th>std err</th>      <th>t</th>      <th>P>|t|</th>  <th>[0.025</th>    <th>0.975]</th>  \n",
       "</tr>\n",
       "<tr>\n",
       "  <th>const</th> <td>    1.9674</td> <td>    0.052</td> <td>   37.683</td> <td> 0.000</td> <td>    1.864</td> <td>    2.071</td>\n",
       "</tr>\n",
       "<tr>\n",
       "  <th>Cost</th>  <td>    0.0234</td> <td>    0.001</td> <td>   35.594</td> <td> 0.000</td> <td>    0.022</td> <td>    0.025</td>\n",
       "</tr>\n",
       "</table>\n",
       "<table class=\"simpletable\">\n",
       "<tr>\n",
       "  <th>Omnibus:</th>       <td> 1.648</td> <th>  Durbin-Watson:     </th> <td>   1.821</td>\n",
       "</tr>\n",
       "<tr>\n",
       "  <th>Prob(Omnibus):</th> <td> 0.439</td> <th>  Jarque-Bera (JB):  </th> <td>   1.360</td>\n",
       "</tr>\n",
       "<tr>\n",
       "  <th>Skew:</th>          <td> 0.032</td> <th>  Prob(JB):          </th> <td>   0.507</td>\n",
       "</tr>\n",
       "<tr>\n",
       "  <th>Kurtosis:</th>      <td> 2.539</td> <th>  Cond. No.          </th> <td>    186.</td>\n",
       "</tr>\n",
       "</table><br/><br/>Notes:<br/>[1] Standard Errors assume that the covariance matrix of the errors is correctly specified."
      ],
      "text/plain": [
       "<class 'statsmodels.iolib.summary.Summary'>\n",
       "\"\"\"\n",
       "                            OLS Regression Results                            \n",
       "==============================================================================\n",
       "Dep. Variable:                  Score   R-squared:                       0.895\n",
       "Model:                            OLS   Adj. R-squared:                  0.894\n",
       "Method:                 Least Squares   F-statistic:                     1267.\n",
       "Date:                Fri, 21 Oct 2022   Prob (F-statistic):           9.72e-75\n",
       "Time:                        09:09:40   Log-Likelihood:                -17.200\n",
       "No. Observations:                 151   AIC:                             38.40\n",
       "Df Residuals:                     149   BIC:                             44.43\n",
       "Df Model:                           1                                         \n",
       "Covariance Type:            nonrobust                                         \n",
       "==============================================================================\n",
       "                 coef    std err          t      P>|t|      [0.025      0.975]\n",
       "------------------------------------------------------------------------------\n",
       "const          1.9674      0.052     37.683      0.000       1.864       2.071\n",
       "Cost           0.0234      0.001     35.594      0.000       0.022       0.025\n",
       "==============================================================================\n",
       "Omnibus:                        1.648   Durbin-Watson:                   1.821\n",
       "Prob(Omnibus):                  0.439   Jarque-Bera (JB):                1.360\n",
       "Skew:                           0.032   Prob(JB):                        0.507\n",
       "Kurtosis:                       2.539   Cond. No.                         186.\n",
       "==============================================================================\n",
       "\n",
       "Notes:\n",
       "[1] Standard Errors assume that the covariance matrix of the errors is correctly specified.\n",
       "\"\"\""
      ]
     },
     "execution_count": 13,
     "metadata": {},
     "output_type": "execute_result"
    }
   ],
   "source": [
    "#Run regression on this set\n",
    "\n",
    "x_train, x_test, y_train, y_test = train_test_split(x, sqrt_y, train_size = 0.75,\n",
    "                                                    test_size = 0.25, random_state = 100)\n",
    "\n",
    "\n",
    "#force intercept term\n",
    "x_train_with_intercept = sm.add_constant(x_train)\n",
    "lr = sm.OLS(y_train, x_train_with_intercept).fit()\n",
    "lr.summary()\n"
   ]
  },
  {
   "cell_type": "code",
   "execution_count": 14,
   "metadata": {
    "colab": {
     "base_uri": "https://localhost:8080/",
     "height": 320
    },
    "id": "u-jsKD_DqofZ",
    "outputId": "5354e356-ec6c-48b5-d19f-c8a3921293bc",
    "pycharm": {
     "name": "#%%\n"
    }
   },
   "outputs": [
    {
     "name": "stdout",
     "output_type": "stream",
     "text": [
      "const    1.967367\n",
      "Cost     0.023433\n",
      "dtype: float64\n"
     ]
    },
    {
     "data": {
      "image/png": "[encoded data removed]",
      "text/plain": [
       "<Figure size 432x288 with 1 Axes>"
      ]
     },
     "metadata": {
      "needs_background": "light"
     },
     "output_type": "display_data"
    }
   ],
   "source": [
    "#Extract the B0, B1\n",
    "print(lr.params)\n",
    "b0=lr.params[0]\n",
    "b1=lr.params[1]\n",
    "\n",
    "#Plot the fitted line on training data\n",
    "plt.scatter(x_train, y_train)\n",
    "plt.plot(x_train, b0+ b1*x_train, 'r')\n",
    "plt.show()"
   ]
  },
  {
   "cell_type": "code",
   "execution_count": 15,
   "metadata": {
    "colab": {
     "base_uri": "https://localhost:8080/",
     "height": 585
    },
    "id": "fAtmFv8sqofa",
    "outputId": "ebfcb88f-4058-404c-953a-1f48d06fad35",
    "pycharm": {
     "name": "#%%\n"
    }
   },
   "outputs": [
    {
     "data": {
      "image/png": "[encoded data removed]",
      "text/plain": [
       "<Figure size 432x288 with 1 Axes>"
      ]
     },
     "metadata": {
      "needs_background": "light"
     },
     "output_type": "display_data"
    },
    {
     "data": {
      "image/png": "[encoded data removed]",
      "text/plain": [
       "<Figure size 432x288 with 1 Axes>"
      ]
     },
     "metadata": {
      "needs_background": "light"
     },
     "output_type": "display_data"
    }
   ],
   "source": [
    "#Plot the fitted line on test data\n",
    "\n",
    "x_test_with_intercept = sm.add_constant(x_test)\n",
    "y_test_fitted = lr.predict(x_test_with_intercept)\n",
    "\n",
    "\n",
    "plt.scatter(x_test, y_test)\n",
    "plt.plot(x_test, y_test_fitted, 'r')\n",
    "plt.show()\n",
    "\n",
    "#Evaluate variance\n",
    "#Diagnostics\n",
    "test_residuals=(y_test-y_test_fitted)\n",
    "len(y_test)\n",
    "len(y_test_fitted)\n",
    "len(test_residuals)\n",
    "\n",
    "#Residuals vs. predictor\n",
    "plt.title('Residuals vs. Cost')\n",
    "plt.xlabel('Cost',fontsize=15)\n",
    "plt.scatter(x_test, test_residuals)\n",
    "plt.show()\n",
    "\n",
    "#Non-constant variance reduced, but we also reduced our coefficient of determination"
   ]
  }
 ],
 "metadata": {
  "colab": {
   "collapsed_sections": [],
   "name": "regression.ipynb",
   "provenance": []
  },
  "kernelspec": {
   "display_name": "Python 3",
   "language": "python",
   "name": "python3"
  },
  "language_info": {
   "codemirror_mode": {
    "name": "ipython",
    "version": 3
   },
   "file_extension": ".py",
   "mimetype": "text/x-python",
   "name": "python",
   "nbconvert_exporter": "python",
   "pygments_lexer": "ipython3",
   "version": "3.8.8"
  }
 },
 "nbformat": 4,
 "nbformat_minor": 1
}
